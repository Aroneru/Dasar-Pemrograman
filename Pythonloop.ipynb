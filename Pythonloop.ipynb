{
 "cells": [
  {
   "cell_type": "code",
   "execution_count": 1,
   "metadata": {},
   "outputs": [
    {
     "name": "stdout",
     "output_type": "stream",
     "text": [
      "One of my favorite desserts is Churros\n",
      "One of my favorite desserts is Tiramisú\n",
      "One of my favorite desserts is Pudding\n"
     ]
    }
   ],
   "source": [
    "favorites = ['Churros', 'Tiramisú', 'Pudding']\n",
    "\n",
    "count = 0\t\t# count is iteration variable\n",
    "\n",
    "while count < len(favorites):\n",
    "    print('One of my favorite desserts is', favorites[count]);\n",
    "    count += 1"
   ]
  },
  {
   "cell_type": "code",
   "execution_count": 2,
   "metadata": {},
   "outputs": [
    {
     "name": "stdout",
     "output_type": "stream",
     "text": [
      "1210\n",
      "1464\n",
      "1772\n",
      "2144\n",
      "It took 4 minutes for the bacteria to double.\n",
      "The final population was 2144 bacteria.\n"
     ]
    }
   ],
   "source": [
    "time = 0\n",
    "population = 1000 # 1000 bacteria to start with\n",
    "growth_rate = 0.21 # 21% growth per minute\n",
    "while population < 2000:\n",
    "    population = population + growth_rate * population\n",
    "    print(round(population))\n",
    "    time = time + 1\n",
    "print(\"It took\", time, \"minutes for the bacteria to double.\")\n",
    "print(\"The final population was\", round(population), \"bacteria.\")"
   ]
  },
  {
   "cell_type": "code",
   "execution_count": null,
   "metadata": {},
   "outputs": [],
   "source": [
    "while True:  #constant condition\n",
    "    print(\"This is an infinite loop\")"
   ]
  },
  {
   "cell_type": "code",
   "execution_count": null,
   "metadata": {},
   "outputs": [],
   "source": [
    "count = 0\t# Incorrectly initialized variable\n",
    "while count < 10:\n",
    "    print(\"This loop will never exit\")\n"
   ]
  },
  {
   "cell_type": "code",
   "execution_count": null,
   "metadata": {},
   "outputs": [],
   "source": [
    "flag = True\t#flag that never change\n",
    "while flag:\n",
    "    print(\"This loop will run indefinitely\")\n"
   ]
  },
  {
   "cell_type": "code",
   "execution_count": null,
   "metadata": {},
   "outputs": [],
   "source": [
    "x = 5\n",
    "while x > 0:\n",
    "    print(\"This loop will run forever\")\n",
    "x = x - 1  # Logical error: missing decrement in the loop, so x will never be less than or equal to 0\n"
   ]
  },
  {
   "cell_type": "code",
   "execution_count": null,
   "metadata": {},
   "outputs": [],
   "source": [
    "# Use multivalued assignment to set up controls\n",
    "time, population, growth_rate = 0, 1000, 0.21\n",
    "# Don't stop until we're exactly double the original size\n",
    "while population != 2000:\n",
    "    population = population + growth_rate * population\n",
    "    print(round(population))\n",
    "    time = time + 1\n",
    "print(\"It took\", time, \"minutes for the bacteria to double.\")\n"
   ]
  },
  {
   "cell_type": "code",
   "execution_count": 1,
   "metadata": {},
   "outputs": [
    {
     "name": "stdout",
     "output_type": "stream",
     "text": [
      "Water\n",
      "Water\n",
      "Methane\n",
      "Ammonia\n",
      "Unknown compound\n",
      "…exiting program\n"
     ]
    }
   ],
   "source": [
    "text = \"\"\n",
    "while text != \"q\":\t\t\t\t\t\t\t\t\t\t                # not use while True\n",
    "  text = input(\"Please enter a chemical formula (or 'q' to exit): \")\t# user input\n",
    "  if text == \"q\":\n",
    "    print(\"…exiting program\")\n",
    "    break\t\t\t\t\t\t\t\t\t\t\t                    # break\n",
    "  elif text == \"H2O\":\n",
    "    print(\"Water\")\n",
    "  elif text == \"NH3\":\n",
    "    print(\"Ammonia\")\n",
    "  elif text == \"CH4\":\n",
    "    print(\"Methane\")\n",
    "  else:\n",
    "    print(\"Unknown compound\")"
   ]
  },
  {
   "cell_type": "code",
   "execution_count": 2,
   "metadata": {},
   "outputs": [
    {
     "name": "stdout",
     "output_type": "stream",
     "text": [
      "One of my favorite desserts is Churros\n",
      "One of my favorite desserts is Tiramisú\n",
      "One of my favorite desserts is Pudding\n"
     ]
    }
   ],
   "source": [
    "favorites = ['Churros', 'Tiramisú', 'Pudding']\n",
    "\n",
    "for dessert in favorites:\n",
    "    print('One of my favorite desserts is', dessert)"
   ]
  },
  {
   "cell_type": "code",
   "execution_count": 3,
   "metadata": {},
   "outputs": [
    {
     "name": "stdout",
     "output_type": "stream",
     "text": [
      "R e p u b l i k   I n d o n e s i a "
     ]
    }
   ],
   "source": [
    "country = 'Republik Indonesia'\n",
    "for ch in country:\n",
    "    print(ch, end=' ')"
   ]
  },
  {
   "cell_type": "code",
   "execution_count": 4,
   "metadata": {},
   "outputs": [
    {
     "name": "stdout",
     "output_type": "stream",
     "text": [
      "Monday\n",
      "Tuesday\n",
      "Wednesday\n",
      "Thursday\n",
      "Friday\n",
      "Saturday\n",
      "Sunday\n"
     ]
    }
   ],
   "source": [
    "days_of_week = [\"Monday\", \"Tuesday\", \"Wednesday\", \"Thursday\", \"Friday\", \"Saturday\", \"Sunday\"]\n",
    "\n",
    "for day in days_of_week:\n",
    "    print(day)"
   ]
  },
  {
   "cell_type": "code",
   "execution_count": 5,
   "metadata": {},
   "outputs": [
    {
     "name": "stdout",
     "output_type": "stream",
     "text": [
      "Number of positive responses: 4\n"
     ]
    }
   ],
   "source": [
    "survey_responses = [\"positive\", \"neutral\", \"positive\", \"negative\", \"positive\", \"positive\", \"neutral\"]\n",
    "\n",
    "positive_count = 0\n",
    "\n",
    "for response in survey_responses:\n",
    "    if response == \"positive\":\n",
    "        positive_count += 1\n",
    "\n",
    "print(f\"Number of positive responses: {positive_count}\")\n"
   ]
  },
  {
   "cell_type": "code",
   "execution_count": 6,
   "metadata": {},
   "outputs": [
    {
     "name": "stdout",
     "output_type": "stream",
     "text": [
      "Total revenue: $302.00\n"
     ]
    }
   ],
   "source": [
    "sales_transactions = [100.50, 75.25, 50.75, 30.00, 45.50]\n",
    "\n",
    "total_revenue = 0\n",
    "\n",
    "for transaction in sales_transactions:\n",
    "    total_revenue += transaction\n",
    "\n",
    "print(f\"Total revenue: ${total_revenue:.2f}\")\n"
   ]
  },
  {
   "cell_type": "code",
   "execution_count": 7,
   "metadata": {},
   "outputs": [
    {
     "name": "stdout",
     "output_type": "stream",
     "text": [
      "Spam emails:\n",
      "user1@spam.com\n",
      "user3@spam.com\n"
     ]
    }
   ],
   "source": [
    "email_addresses = [\"user1@spam.com\", \"user2@gmail.com\", \"user3@spam.com\"]\n",
    "\n",
    "spam_emails = []\n",
    "\n",
    "for email in email_addresses:\n",
    "    if email.endswith(\"@spam.com\"):\n",
    "        spam_emails.append(email)\t\t\n",
    "\n",
    "print(\"Spam emails:\")\n",
    "for email in spam_emails:\n",
    "    print(email)\n"
   ]
  },
  {
   "cell_type": "code",
   "execution_count": 8,
   "metadata": {},
   "outputs": [
    {
     "name": "stdout",
     "output_type": "stream",
     "text": [
      "Student Charlie found.\n"
     ]
    }
   ],
   "source": [
    "student_names = [\"Alice\", \"Bob\", \"Charlie\", \"David\"]\n",
    "student_name_to_search = \"Charlie\"\n",
    "\n",
    "student_found = False\n",
    "\n",
    "for name in student_names:\n",
    "    if name == student_name_to_search:\n",
    "        student_found = True\n",
    "        break\n",
    "\n",
    "if student_found:\n",
    "    print(f\"Student {student_name_to_search} found.\")\n",
    "else:\n",
    "    print(f\"Student {student_name_to_search} not found.\")\n"
   ]
  },
  {
   "cell_type": "code",
   "execution_count": 9,
   "metadata": {},
   "outputs": [
    {
     "name": "stdout",
     "output_type": "stream",
     "text": [
      "The maximum temperature of the week was 91°F.\n"
     ]
    }
   ],
   "source": [
    "temperatures = [75, 82, 79, 88, 91, 84, 77]\n",
    "max_temperature = temperatures[0]\n",
    "\n",
    "for temperature in temperatures:\n",
    "    if temperature > max_temperature:\n",
    "        max_temperature = temperature\n",
    "\n",
    "print(f\"The maximum temperature of the week was {max_temperature}°F.\")\n"
   ]
  },
  {
   "cell_type": "code",
   "execution_count": 11,
   "metadata": {},
   "outputs": [
    {
     "name": "stdout",
     "output_type": "stream",
     "text": [
      "Get ready for liftoff!\n",
      "5...\n",
      "4...\n",
      "3...\n",
      "2...\n",
      "1...\n",
      "Blast off!\n"
     ]
    }
   ],
   "source": [
    "import time\n",
    "\n",
    "countdown_seconds = 5\n",
    "\n",
    "print(\"Get ready for liftoff!\")\n",
    "for remaining_seconds in range(countdown_seconds, 0, -1):\n",
    "    print(f\"{remaining_seconds}...\")\n",
    "    time.sleep(1)\n",
    "\n",
    "print(\"Blast off!\")\n"
   ]
  },
  {
   "cell_type": "code",
   "execution_count": 12,
   "metadata": {},
   "outputs": [
    {
     "name": "stdout",
     "output_type": "stream",
     "text": [
      "<< Dummy Calendar >>\n",
      "Mon Tue Wed Thu Fri Sat Sun\n",
      "  1   2   3   4   5   6   7 \n",
      "  8   9  10  11  12  13  14 \n",
      " 15  16  17  18  19  20  21 \n",
      " 22  23  24  25  26  27  28 \n",
      " 29  30 "
     ]
    }
   ],
   "source": [
    "days_in_month = 30\n",
    "start_day = 1 #1st day of the month \n",
    "\n",
    "print(\"<< Dummy Calendar >>\")\n",
    "print(\"Mon Tue Wed Thu Fri Sat Sun\")\n",
    "for day in range(1, days_in_month + 1):\n",
    "    print(f\"{day:3d}\", end=\" \")\n",
    "\n",
    "    # new line for next week (Sunday)\n",
    "    if (day + start_day - 1) % 7 == 0:\n",
    "        print()\n"
   ]
  },
  {
   "cell_type": "code",
   "execution_count": 14,
   "metadata": {},
   "outputs": [
    {
     "name": "stdout",
     "output_type": "stream",
     "text": [
      "LiF\n",
      "LiCl\n",
      "LiBr\n",
      "NaF\n",
      "NaCl\n",
      "NaBr\n",
      "KF\n",
      "KCl\n",
      "KBr\n"
     ]
    }
   ],
   "source": [
    "outer = ['Li', 'Na', 'K']\n",
    "inner = ['F', 'Cl', 'Br']\n",
    "for metal in outer:\n",
    "    for halogen in inner:\n",
    "        print(metal + halogen)\n",
    "\n"
   ]
  },
  {
   "cell_type": "code",
   "execution_count": 15,
   "metadata": {},
   "outputs": [
    {
     "name": "stdout",
     "output_type": "stream",
     "text": [
      "    *\n",
      "   ***\n",
      "  *****\n",
      " *******\n",
      "*********\n"
     ]
    }
   ],
   "source": [
    "height = 5  # Height of the pyramid\n",
    "\n",
    "for i in range(1, height + 1):\n",
    "    # Print spaces before the stars\n",
    "    for j in range(height - i):\n",
    "        print(\" \", end=\"\")\n",
    "\n",
    "    # Print the stars\n",
    "    for k in range(2 * i - 1):\n",
    "        print(\"*\", end=\"\")\n",
    "\n",
    "    # Move to the next line after each row\n",
    "    print()\n"
   ]
  },
  {
   "cell_type": "code",
   "execution_count": 23,
   "metadata": {},
   "outputs": [
    {
     "name": "stdout",
     "output_type": "stream",
     "text": [
      "Yes one of my favorite desserts is Pudding\n",
      "No sorry, that dessert is not on my list\n"
     ]
    }
   ],
   "source": [
    "favorites = ['Churros', 'Tiramisú', 'Pudding']\n",
    "\n",
    "for dessert in favorites:\n",
    "    if dessert == 'Pudding':\n",
    "        print('Yes one of my favorite desserts is', dessert) \n",
    "else:\n",
    "    print('No sorry, that dessert is not on my list')\n",
    "\n"
   ]
  },
  {
   "cell_type": "code",
   "execution_count": 24,
   "metadata": {},
   "outputs": [
    {
     "name": "stdout",
     "output_type": "stream",
     "text": [
      "5\n",
      "4\n",
      "3\n",
      "2\n",
      "1\n",
      "Countdown complete! Blast off!\n"
     ]
    }
   ],
   "source": [
    "countdown = 5\n",
    "\n",
    "while countdown > 0:\n",
    "    print(countdown)\n",
    "    countdown -= 1\n",
    "else:\n",
    "    print(\"Countdown complete! Blast off!\")\n",
    "\n"
   ]
  },
  {
   "cell_type": "code",
   "execution_count": 25,
   "metadata": {},
   "outputs": [
    {
     "ename": "FileNotFoundError",
     "evalue": "[Errno 2] No such file or directory: 'sample.txt'",
     "output_type": "error",
     "traceback": [
      "\u001b[1;31m---------------------------------------------------------------------------\u001b[0m",
      "\u001b[1;31mFileNotFoundError\u001b[0m                         Traceback (most recent call last)",
      "\u001b[1;32mc:\\Users\\SV-IPB\\New World Order\\pythonloop.ipynb Cell 23\u001b[0m line \u001b[0;36m1\n\u001b[1;32m----> <a href='vscode-notebook-cell:/c%3A/Users/SV-IPB/New%20World%20Order/pythonloop.ipynb#X36sZmlsZQ%3D%3D?line=0'>1</a>\u001b[0m f \u001b[39m=\u001b[39m \u001b[39mopen\u001b[39;49m(\u001b[39m\"\u001b[39;49m\u001b[39msample.txt\u001b[39;49m\u001b[39m\"\u001b[39;49m, \u001b[39m\"\u001b[39;49m\u001b[39mr\u001b[39;49m\u001b[39m\"\u001b[39;49m)\n\u001b[0;32m      <a href='vscode-notebook-cell:/c%3A/Users/SV-IPB/New%20World%20Order/pythonloop.ipynb#X36sZmlsZQ%3D%3D?line=1'>2</a>\u001b[0m \u001b[39mwhile\u001b[39;00m \u001b[39mTrue\u001b[39;00m:\n\u001b[0;32m      <a href='vscode-notebook-cell:/c%3A/Users/SV-IPB/New%20World%20Order/pythonloop.ipynb#X36sZmlsZQ%3D%3D?line=2'>3</a>\u001b[0m     line \u001b[39m=\u001b[39m f\u001b[39m.\u001b[39mreadline()\n",
      "File \u001b[1;32m~\\AppData\\Roaming\\Python\\Python311\\site-packages\\IPython\\core\\interactiveshell.py:286\u001b[0m, in \u001b[0;36m_modified_open\u001b[1;34m(file, *args, **kwargs)\u001b[0m\n\u001b[0;32m    279\u001b[0m \u001b[39mif\u001b[39;00m file \u001b[39min\u001b[39;00m {\u001b[39m0\u001b[39m, \u001b[39m1\u001b[39m, \u001b[39m2\u001b[39m}:\n\u001b[0;32m    280\u001b[0m     \u001b[39mraise\u001b[39;00m \u001b[39mValueError\u001b[39;00m(\n\u001b[0;32m    281\u001b[0m         \u001b[39mf\u001b[39m\u001b[39m\"\u001b[39m\u001b[39mIPython won\u001b[39m\u001b[39m'\u001b[39m\u001b[39mt let you open fd=\u001b[39m\u001b[39m{\u001b[39;00mfile\u001b[39m}\u001b[39;00m\u001b[39m by default \u001b[39m\u001b[39m\"\u001b[39m\n\u001b[0;32m    282\u001b[0m         \u001b[39m\"\u001b[39m\u001b[39mas it is likely to crash IPython. If you know what you are doing, \u001b[39m\u001b[39m\"\u001b[39m\n\u001b[0;32m    283\u001b[0m         \u001b[39m\"\u001b[39m\u001b[39myou can use builtins\u001b[39m\u001b[39m'\u001b[39m\u001b[39m open.\u001b[39m\u001b[39m\"\u001b[39m\n\u001b[0;32m    284\u001b[0m     )\n\u001b[1;32m--> 286\u001b[0m \u001b[39mreturn\u001b[39;00m io_open(file, \u001b[39m*\u001b[39;49margs, \u001b[39m*\u001b[39;49m\u001b[39m*\u001b[39;49mkwargs)\n",
      "\u001b[1;31mFileNotFoundError\u001b[0m: [Errno 2] No such file or directory: 'sample.txt'"
     ]
    }
   ],
   "source": [
    "f = open(\"sample.txt\", \"r\")\n",
    "while True:\n",
    "    line = f.readline()\n",
    "    if not line:\n",
    "        break\n",
    "    print(line.strip())\n",
    "else:\n",
    "    f.close\n"
   ]
  },
  {
   "cell_type": "code",
   "execution_count": 26,
   "metadata": {},
   "outputs": [
    {
     "name": "stdout",
     "output_type": "stream",
     "text": [
      "My favorite is Pudding\n"
     ]
    }
   ],
   "source": [
    "favorites = ['Churros', 'Tiramisú', 'Pudding']\n",
    "\n",
    "for dessert in favorites:\n",
    "    if dessert == 'Pudding':\n",
    "        print('My favorite is', dessert)\n",
    "        break \n",
    "else:\n",
    "    print('No sorry, not a dessert on my list')\n"
   ]
  },
  {
   "cell_type": "code",
   "execution_count": 27,
   "metadata": {},
   "outputs": [
    {
     "name": "stdout",
     "output_type": "stream",
     "text": [
      "Dispensing chips. Enjoy your snack!\n",
      "Dispensing candy. Enjoy your snack!\n",
      "Dispensing soda. Enjoy your snack!\n",
      "Dispensing food. Enjoy your snack!\n",
      "Thank you for using the vending machine.\n",
      "Vending machine session ended.\n"
     ]
    }
   ],
   "source": [
    "snacks_in_stock = [\"chips\", \"candy\", \"soda\", \"cookies\"]\n",
    "user_choice = \"\"\n",
    "\n",
    "while user_choice != \"q\":\n",
    "    user_choice = input(\"Enter your snack choice (or 'q' to exit): \")\n",
    "\n",
    "    # Check if the user wants to quit\n",
    "    if user_choice == \"q\":\n",
    "        print(\"Thank you for using the vending machine.\")\n",
    "        break\n",
    "\n",
    "    # Dispense the selected snack\n",
    "    print(f\"Dispensing {user_choice}. Enjoy your snack!\")\n",
    "\n",
    "print(\"Vending machine session ended.\")\n"
   ]
  },
  {
   "cell_type": "code",
   "execution_count": 28,
   "metadata": {},
   "outputs": [
    {
     "name": "stdout",
     "output_type": "stream",
     "text": [
      "Other desserts I like are Tiramisú\n",
      "Other desserts I like are Pudding\n"
     ]
    }
   ],
   "source": [
    "favorites = ['Churros', 'Tiramisú', 'Pudding']\n",
    "\n",
    "for dessert in favorites:\n",
    "    if dessert == 'Churros':\n",
    "        continue\n",
    "    print('Other desserts I like are', dessert)\n"
   ]
  },
  {
   "cell_type": "code",
   "execution_count": 29,
   "metadata": {},
   "outputs": [
    {
     "name": "stdout",
     "output_type": "stream",
     "text": [
      "Dispensing chips. Enjoy your snack!\n",
      "Dispensing candy. Enjoy your snack!\n",
      "Sorry, that snack is not available.\n",
      "Thank you for using the vending machine.\n",
      "Vending machine session ended.\n"
     ]
    }
   ],
   "source": [
    "snacks_in_stock = [\"chips\", \"candy\", \"soda\", \"cookies\"]\n",
    "user_choice = \"\"\n",
    "\n",
    "while user_choice != \"q\":\n",
    "    user_choice = input(\"Enter your snack choice (or 'q' to exit): \")\n",
    "\n",
    "    # Check if the user wants to quit\n",
    "    if user_choice == \"q\":\n",
    "        print(\"Thank you for using the vending machine.\")\n",
    "        break\n",
    "\n",
    "    # Check if the selected snack is in stock\n",
    "    if user_choice not in snacks_in_stock:\n",
    "        print(\"Sorry, that snack is not available.\")\n",
    "        continue  # Continue iteration without dispensing the snack\n",
    "\n",
    "    # Dispense the selected snack\n",
    "    print(f\"Dispensing {user_choice}. Enjoy your snack!\")\n",
    "\n",
    "print(\"Vending machine session ended.\")\n"
   ]
  },
  {
   "cell_type": "code",
   "execution_count": 30,
   "metadata": {},
   "outputs": [
    {
     "ename": "NameError",
     "evalue": "name 'send_email' is not defined",
     "output_type": "error",
     "traceback": [
      "\u001b[1;31m---------------------------------------------------------------------------\u001b[0m",
      "\u001b[1;31mNameError\u001b[0m                                 Traceback (most recent call last)",
      "\u001b[1;32mc:\\Users\\SV-IPB\\New World Order\\pythonloop.ipynb Cell 28\u001b[0m line \u001b[0;36m7\n\u001b[0;32m      <a href='vscode-notebook-cell:/c%3A/Users/SV-IPB/New%20World%20Order/pythonloop.ipynb#X44sZmlsZQ%3D%3D?line=4'>5</a>\u001b[0m     \u001b[39mpass\u001b[39;00m  \u001b[39m# Implementation for Charlie later\u001b[39;00m\n\u001b[0;32m      <a href='vscode-notebook-cell:/c%3A/Users/SV-IPB/New%20World%20Order/pythonloop.ipynb#X44sZmlsZQ%3D%3D?line=5'>6</a>\u001b[0m \u001b[39melse\u001b[39;00m:\n\u001b[1;32m----> <a href='vscode-notebook-cell:/c%3A/Users/SV-IPB/New%20World%20Order/pythonloop.ipynb#X44sZmlsZQ%3D%3D?line=6'>7</a>\u001b[0m     send_email(customer)\n",
      "\u001b[1;31mNameError\u001b[0m: name 'send_email' is not defined"
     ]
    }
   ],
   "source": [
    "customers = [\"Alice\", \"Bob\", \"Charlie\"]\n",
    "\n",
    "for customer in customers:\n",
    "    if customer == \"Charlie\":\n",
    "        pass  # Implementation for Charlie later\n",
    "    else:\n",
    "        send_email(customer)\n",
    "    "
   ]
  },
  {
   "cell_type": "code",
   "execution_count": 31,
   "metadata": {},
   "outputs": [
    {
     "ename": "KeyboardInterrupt",
     "evalue": "Interrupted by user",
     "output_type": "error",
     "traceback": [
      "\u001b[1;31m---------------------------------------------------------------------------\u001b[0m",
      "\u001b[1;31mKeyboardInterrupt\u001b[0m                         Traceback (most recent call last)",
      "\u001b[1;32mc:\\Users\\SV-IPB\\New World Order\\pythonloop.ipynb Cell 29\u001b[0m line \u001b[0;36m5\n\u001b[0;32m      <a href='vscode-notebook-cell:/c%3A/Users/SV-IPB/New%20World%20Order/pythonloop.ipynb#X45sZmlsZQ%3D%3D?line=1'>2</a>\u001b[0m valid_password \u001b[39m=\u001b[39m \u001b[39m\"\u001b[39m\u001b[39mpassword\u001b[39m\u001b[39m\"\u001b[39m\n\u001b[0;32m      <a href='vscode-notebook-cell:/c%3A/Users/SV-IPB/New%20World%20Order/pythonloop.ipynb#X45sZmlsZQ%3D%3D?line=3'>4</a>\u001b[0m \u001b[39mwhile\u001b[39;00m \u001b[39mTrue\u001b[39;00m:\n\u001b[1;32m----> <a href='vscode-notebook-cell:/c%3A/Users/SV-IPB/New%20World%20Order/pythonloop.ipynb#X45sZmlsZQ%3D%3D?line=4'>5</a>\u001b[0m     login \u001b[39m=\u001b[39m \u001b[39minput\u001b[39;49m(\u001b[39m\"\u001b[39;49m\u001b[39mEnter your login: \u001b[39;49m\u001b[39m\"\u001b[39;49m)\n\u001b[0;32m      <a href='vscode-notebook-cell:/c%3A/Users/SV-IPB/New%20World%20Order/pythonloop.ipynb#X45sZmlsZQ%3D%3D?line=5'>6</a>\u001b[0m     password \u001b[39m=\u001b[39m \u001b[39minput\u001b[39m(\u001b[39m\"\u001b[39m\u001b[39mEnter your password: \u001b[39m\u001b[39m\"\u001b[39m)\n\u001b[0;32m      <a href='vscode-notebook-cell:/c%3A/Users/SV-IPB/New%20World%20Order/pythonloop.ipynb#X45sZmlsZQ%3D%3D?line=7'>8</a>\u001b[0m     \u001b[39mif\u001b[39;00m login \u001b[39m==\u001b[39m valid_login \u001b[39mand\u001b[39;00m password \u001b[39m==\u001b[39m valid_password:\n",
      "File \u001b[1;32m~\\AppData\\Roaming\\Python\\Python311\\site-packages\\ipykernel\\kernelbase.py:1202\u001b[0m, in \u001b[0;36mKernel.raw_input\u001b[1;34m(self, prompt)\u001b[0m\n\u001b[0;32m   1200\u001b[0m     msg \u001b[39m=\u001b[39m \u001b[39m\"\u001b[39m\u001b[39mraw_input was called, but this frontend does not support input requests.\u001b[39m\u001b[39m\"\u001b[39m\n\u001b[0;32m   1201\u001b[0m     \u001b[39mraise\u001b[39;00m StdinNotImplementedError(msg)\n\u001b[1;32m-> 1202\u001b[0m \u001b[39mreturn\u001b[39;00m \u001b[39mself\u001b[39;49m\u001b[39m.\u001b[39;49m_input_request(\n\u001b[0;32m   1203\u001b[0m     \u001b[39mstr\u001b[39;49m(prompt),\n\u001b[0;32m   1204\u001b[0m     \u001b[39mself\u001b[39;49m\u001b[39m.\u001b[39;49m_parent_ident[\u001b[39m\"\u001b[39;49m\u001b[39mshell\u001b[39;49m\u001b[39m\"\u001b[39;49m],\n\u001b[0;32m   1205\u001b[0m     \u001b[39mself\u001b[39;49m\u001b[39m.\u001b[39;49mget_parent(\u001b[39m\"\u001b[39;49m\u001b[39mshell\u001b[39;49m\u001b[39m\"\u001b[39;49m),\n\u001b[0;32m   1206\u001b[0m     password\u001b[39m=\u001b[39;49m\u001b[39mFalse\u001b[39;49;00m,\n\u001b[0;32m   1207\u001b[0m )\n",
      "File \u001b[1;32m~\\AppData\\Roaming\\Python\\Python311\\site-packages\\ipykernel\\kernelbase.py:1245\u001b[0m, in \u001b[0;36mKernel._input_request\u001b[1;34m(self, prompt, ident, parent, password)\u001b[0m\n\u001b[0;32m   1242\u001b[0m \u001b[39mexcept\u001b[39;00m \u001b[39mKeyboardInterrupt\u001b[39;00m:\n\u001b[0;32m   1243\u001b[0m     \u001b[39m# re-raise KeyboardInterrupt, to truncate traceback\u001b[39;00m\n\u001b[0;32m   1244\u001b[0m     msg \u001b[39m=\u001b[39m \u001b[39m\"\u001b[39m\u001b[39mInterrupted by user\u001b[39m\u001b[39m\"\u001b[39m\n\u001b[1;32m-> 1245\u001b[0m     \u001b[39mraise\u001b[39;00m \u001b[39mKeyboardInterrupt\u001b[39;00m(msg) \u001b[39mfrom\u001b[39;00m \u001b[39mNone\u001b[39;00m\n\u001b[0;32m   1246\u001b[0m \u001b[39mexcept\u001b[39;00m \u001b[39mException\u001b[39;00m:\n\u001b[0;32m   1247\u001b[0m     \u001b[39mself\u001b[39m\u001b[39m.\u001b[39mlog\u001b[39m.\u001b[39mwarning(\u001b[39m\"\u001b[39m\u001b[39mInvalid Message:\u001b[39m\u001b[39m\"\u001b[39m, exc_info\u001b[39m=\u001b[39m\u001b[39mTrue\u001b[39;00m)\n",
      "\u001b[1;31mKeyboardInterrupt\u001b[0m: Interrupted by user"
     ]
    }
   ],
   "source": [
    "valid_login = \"admin\"\n",
    "valid_password = \"password\"\n",
    "\n",
    "while True:\n",
    "    login = input(\"Enter your login: \")\n",
    "    password = input(\"Enter your password: \")\n",
    "\n",
    "    if login == valid_login and password == valid_password:\n",
    "        print(\"Authentication successful!\")\n",
    "        break\n",
    "    else:\n",
    "        print(\"Invalid credentials. Please try again.\")\n",
    "        pass  # Placeholder for later (e.g., account lockout)\n",
    "\n",
    "print(\"Welcome, admin!\")\n"
   ]
  }
 ],
 "metadata": {
  "kernelspec": {
   "display_name": "Python 3",
   "language": "python",
   "name": "python3"
  },
  "language_info": {
   "codemirror_mode": {
    "name": "ipython",
    "version": 3
   },
   "file_extension": ".py",
   "mimetype": "text/x-python",
   "name": "python",
   "nbconvert_exporter": "python",
   "pygments_lexer": "ipython3",
   "version": "3.11.5"
  },
  "orig_nbformat": 4
 },
 "nbformat": 4,
 "nbformat_minor": 2
}
