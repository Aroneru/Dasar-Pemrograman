{
 "cells": [
  {
   "cell_type": "markdown",
   "metadata": {},
   "source": [
    "Muhammad Yermi Rachman<br>\n",
    "J0403231034<br>\n",
    "Teknologi Rekayasa Perangkat Lunak B1<br>\n",
    "yermi2413rachman@apps.ipb.ac.id<br>\n",
    "https://github.com/Aroneru\n",
    "\n",
    "Python Loop"
   ]
  },
  {
   "cell_type": "code",
   "execution_count": 2,
   "metadata": {},
   "outputs": [
    {
     "name": "stdout",
     "output_type": "stream",
     "text": [
      "1210\n",
      "1464\n",
      "1772\n",
      "2144\n",
      "It took 4 minutes for the bacteria to double.\n",
      "The final population was 2144 bacteria.\n"
     ]
    }
   ],
   "source": [
    "time = 0\n",
    "population = 1000 # 1000 bacteria to start with\n",
    "growth_rate = 0.21 # 21% growth per minute\n",
    "while population < 2000:\n",
    "    population = population + growth_rate * population\n",
    "    print(round(population))\n",
    "    time = time + 1\n",
    "print(\"It took\", time, \"minutes for the bacteria to double.\")\n",
    "print(\"The final population was\", round(population), \"bacteria.\")"
   ]
  },
  {
   "cell_type": "code",
   "execution_count": null,
   "metadata": {},
   "outputs": [],
   "source": [
    "while True:  #constant condition\n",
    "    print(\"This is an infinite loop\")"
   ]
  },
  {
   "cell_type": "code",
   "execution_count": null,
   "metadata": {},
   "outputs": [],
   "source": [
    "count = 0\t# Incorrectly initialized variable\n",
    "while count < 10:\n",
    "    print(\"This loop will never exit\")\n"
   ]
  },
  {
   "cell_type": "code",
   "execution_count": null,
   "metadata": {},
   "outputs": [],
   "source": [
    "flag = True\t#flag that never change\n",
    "while flag:\n",
    "    print(\"This loop will run indefinitely\")\n"
   ]
  },
  {
   "cell_type": "code",
   "execution_count": null,
   "metadata": {},
   "outputs": [],
   "source": [
    "x = 5\n",
    "while x > 0:\n",
    "    print(\"This loop will run forever\")\n",
    "x = x - 1  # Logical error: missing decrement in the loop, so x will never be less than or equal to 0\n"
   ]
  },
  {
   "cell_type": "code",
   "execution_count": null,
   "metadata": {},
   "outputs": [],
   "source": [
    "# Use multivalued assignment to set up controls\n",
    "time, population, growth_rate = 0, 1000, 0.21\n",
    "# Don't stop until we're exactly double the original size\n",
    "while population != 2000:\n",
    "    population = population + growth_rate * population\n",
    "    print(round(population))\n",
    "    time = time + 1\n",
    "print(\"It took\", time, \"minutes for the bacteria to double.\")\n"
   ]
  },
  {
   "cell_type": "code",
   "execution_count": 1,
   "metadata": {},
   "outputs": [
    {
     "name": "stdout",
     "output_type": "stream",
     "text": [
      "Water\n",
      "Water\n",
      "Methane\n",
      "Ammonia\n",
      "Unknown compound\n",
      "…exiting program\n"
     ]
    }
   ],
   "source": [
    "text = \"\"\n",
    "while text != \"q\":\t\t\t\t\t\t\t\t\t\t                # not use while True\n",
    "  text = input(\"Please enter a chemical formula (or 'q' to exit): \")\t# user input\n",
    "  if text == \"q\":\n",
    "    print(\"…exiting program\")\n",
    "    break\t\t\t\t\t\t\t\t\t\t\t                    # break\n",
    "  elif text == \"H2O\":\n",
    "    print(\"Water\")\n",
    "  elif text == \"NH3\":\n",
    "    print(\"Ammonia\")\n",
    "  elif text == \"CH4\":\n",
    "    print(\"Methane\")\n",
    "  else:\n",
    "    print(\"Unknown compound\")"
   ]
  },
  {
   "cell_type": "code",
   "execution_count": 2,
   "metadata": {},
   "outputs": [
    {
     "name": "stdout",
     "output_type": "stream",
     "text": [
      "One of my favorite desserts is Churros\n",
      "One of my favorite desserts is Tiramisú\n",
      "One of my favorite desserts is Pudding\n"
     ]
    }
   ],
   "source": [
    "favorites = ['Churros', 'Tiramisú', 'Pudding']\n",
    "\n",
    "for dessert in favorites:\n",
    "    print('One of my favorite desserts is', dessert)"
   ]
  },
  {
   "cell_type": "code",
   "execution_count": 3,
   "metadata": {},
   "outputs": [
    {
     "name": "stdout",
     "output_type": "stream",
     "text": [
      "R e p u b l i k   I n d o n e s i a "
     ]
    }
   ],
   "source": [
    "country = 'Republik Indonesia'\n",
    "for ch in country:\n",
    "    print(ch, end=' ')"
   ]
  },
  {
   "cell_type": "code",
   "execution_count": 4,
   "metadata": {},
   "outputs": [
    {
     "name": "stdout",
     "output_type": "stream",
     "text": [
      "Monday\n",
      "Tuesday\n",
      "Wednesday\n",
      "Thursday\n",
      "Friday\n",
      "Saturday\n",
      "Sunday\n"
     ]
    }
   ],
   "source": [
    "days_of_week = [\"Monday\", \"Tuesday\", \"Wednesday\", \"Thursday\", \"Friday\", \"Saturday\", \"Sunday\"]\n",
    "\n",
    "for day in days_of_week:\n",
    "    print(day)"
   ]
  },
  {
   "cell_type": "code",
   "execution_count": 5,
   "metadata": {},
   "outputs": [
    {
     "name": "stdout",
     "output_type": "stream",
     "text": [
      "Number of positive responses: 4\n"
     ]
    }
   ],
   "source": [
    "survey_responses = [\"positive\", \"neutral\", \"positive\", \"negative\", \"positive\", \"positive\", \"neutral\"]\n",
    "\n",
    "positive_count = 0\n",
    "\n",
    "for response in survey_responses:\n",
    "    if response == \"positive\":\n",
    "        positive_count += 1\n",
    "\n",
    "print(f\"Number of positive responses: {positive_count}\")\n"
   ]
  },
  {
   "cell_type": "code",
   "execution_count": 6,
   "metadata": {},
   "outputs": [
    {
     "name": "stdout",
     "output_type": "stream",
     "text": [
      "Total revenue: $302.00\n"
     ]
    }
   ],
   "source": [
    "sales_transactions = [100.50, 75.25, 50.75, 30.00, 45.50]\n",
    "\n",
    "total_revenue = 0\n",
    "\n",
    "for transaction in sales_transactions:\n",
    "    total_revenue += transaction\n",
    "\n",
    "print(f\"Total revenue: ${total_revenue:.2f}\")\n"
   ]
  },
  {
   "cell_type": "code",
   "execution_count": 7,
   "metadata": {},
   "outputs": [
    {
     "name": "stdout",
     "output_type": "stream",
     "text": [
      "Spam emails:\n",
      "user1@spam.com\n",
      "user3@spam.com\n"
     ]
    }
   ],
   "source": [
    "email_addresses = [\"user1@spam.com\", \"user2@gmail.com\", \"user3@spam.com\"]\n",
    "\n",
    "spam_emails = []\n",
    "\n",
    "for email in email_addresses:\n",
    "    if email.endswith(\"@spam.com\"):\n",
    "        spam_emails.append(email)\t\t\n",
    "\n",
    "print(\"Spam emails:\")\n",
    "for email in spam_emails:\n",
    "    print(email)\n"
   ]
  },
  {
   "cell_type": "code",
   "execution_count": 8,
   "metadata": {},
   "outputs": [
    {
     "name": "stdout",
     "output_type": "stream",
     "text": [
      "Student Charlie found.\n"
     ]
    }
   ],
   "source": [
    "student_names = [\"Alice\", \"Bob\", \"Charlie\", \"David\"]\n",
    "student_name_to_search = \"Charlie\"\n",
    "\n",
    "student_found = False\n",
    "\n",
    "for name in student_names:\n",
    "    if name == student_name_to_search:\n",
    "        student_found = True\n",
    "        break\n",
    "\n",
    "if student_found:\n",
    "    print(f\"Student {student_name_to_search} found.\")\n",
    "else:\n",
    "    print(f\"Student {student_name_to_search} not found.\")\n"
   ]
  },
  {
   "cell_type": "code",
   "execution_count": 9,
   "metadata": {},
   "outputs": [
    {
     "name": "stdout",
     "output_type": "stream",
     "text": [
      "The maximum temperature of the week was 91°F.\n"
     ]
    }
   ],
   "source": [
    "temperatures = [75, 82, 79, 88, 91, 84, 77]\n",
    "max_temperature = temperatures[0]\n",
    "\n",
    "for temperature in temperatures:\n",
    "    if temperature > max_temperature:\n",
    "        max_temperature = temperature\n",
    "\n",
    "print(f\"The maximum temperature of the week was {max_temperature}°F.\")\n"
   ]
  },
  {
   "cell_type": "code",
   "execution_count": 11,
   "metadata": {},
   "outputs": [
    {
     "name": "stdout",
     "output_type": "stream",
     "text": [
      "Get ready for liftoff!\n",
      "5...\n",
      "4...\n",
      "3...\n",
      "2...\n",
      "1...\n",
      "Blast off!\n"
     ]
    }
   ],
   "source": [
    "import time\n",
    "\n",
    "countdown_seconds = 5\n",
    "\n",
    "print(\"Get ready for liftoff!\")\n",
    "for remaining_seconds in range(countdown_seconds, 0, -1):\n",
    "    print(f\"{remaining_seconds}...\")\n",
    "    time.sleep(1)\n",
    "\n",
    "print(\"Blast off!\")\n"
   ]
  },
  {
   "cell_type": "code",
   "execution_count": 12,
   "metadata": {},
   "outputs": [
    {
     "name": "stdout",
     "output_type": "stream",
     "text": [
      "<< Dummy Calendar >>\n",
      "Mon Tue Wed Thu Fri Sat Sun\n",
      "  1   2   3   4   5   6   7 \n",
      "  8   9  10  11  12  13  14 \n",
      " 15  16  17  18  19  20  21 \n",
      " 22  23  24  25  26  27  28 \n",
      " 29  30 "
     ]
    }
   ],
   "source": [
    "days_in_month = 30\n",
    "start_day = 1 #1st day of the month \n",
    "\n",
    "print(\"<< Dummy Calendar >>\")\n",
    "print(\"Mon Tue Wed Thu Fri Sat Sun\")\n",
    "for day in range(1, days_in_month + 1):\n",
    "    print(f\"{day:3d}\", end=\" \")\n",
    "\n",
    "    # new line for next week (Sunday)\n",
    "    if (day + start_day - 1) % 7 == 0:\n",
    "        print()\n"
   ]
  },
  {
   "cell_type": "code",
   "execution_count": 14,
   "metadata": {},
   "outputs": [
    {
     "name": "stdout",
     "output_type": "stream",
     "text": [
      "LiF\n",
      "LiCl\n",
      "LiBr\n",
      "NaF\n",
      "NaCl\n",
      "NaBr\n",
      "KF\n",
      "KCl\n",
      "KBr\n"
     ]
    }
   ],
   "source": [
    "outer = ['Li', 'Na', 'K']\n",
    "inner = ['F', 'Cl', 'Br']\n",
    "for metal in outer:\n",
    "    for halogen in inner:\n",
    "        print(metal + halogen)\n",
    "\n"
   ]
  },
  {
   "cell_type": "code",
   "execution_count": 15,
   "metadata": {},
   "outputs": [
    {
     "name": "stdout",
     "output_type": "stream",
     "text": [
      "    *\n",
      "   ***\n",
      "  *****\n",
      " *******\n",
      "*********\n"
     ]
    }
   ],
   "source": [
    "height = 5  # Height of the pyramid\n",
    "\n",
    "for i in range(1, height + 1):\n",
    "    # Print spaces before the stars\n",
    "    for j in range(height - i):\n",
    "        print(\" \", end=\"\")\n",
    "\n",
    "    # Print the stars\n",
    "    for k in range(2 * i - 1):\n",
    "        print(\"*\", end=\"\")\n",
    "\n",
    "    # Move to the next line after each row\n",
    "    print()\n"
   ]
  },
  {
   "cell_type": "code",
   "execution_count": 23,
   "metadata": {},
   "outputs": [
    {
     "name": "stdout",
     "output_type": "stream",
     "text": [
      "Yes one of my favorite desserts is Pudding\n",
      "No sorry, that dessert is not on my list\n"
     ]
    }
   ],
   "source": [
    "favorites = ['Churros', 'Tiramisú', 'Pudding']\n",
    "\n",
    "for dessert in favorites:\n",
    "    if dessert == 'Pudding':\n",
    "        print('Yes one of my favorite desserts is', dessert) \n",
    "else:\n",
    "    print('No sorry, that dessert is not on my list')\n",
    "\n"
   ]
  },
  {
   "cell_type": "code",
   "execution_count": 24,
   "metadata": {},
   "outputs": [
    {
     "name": "stdout",
     "output_type": "stream",
     "text": [
      "5\n",
      "4\n",
      "3\n",
      "2\n",
      "1\n",
      "Countdown complete! Blast off!\n"
     ]
    }
   ],
   "source": [
    "countdown = 5\n",
    "\n",
    "while countdown > 0:\n",
    "    print(countdown)\n",
    "    countdown -= 1\n",
    "else:\n",
    "    print(\"Countdown complete! Blast off!\")\n",
    "\n"
   ]
  },
  {
   "cell_type": "code",
   "execution_count": null,
   "metadata": {},
   "outputs": [],
   "source": [
    "f = open(\"sample.txt\", \"r\")\n",
    "while True:\n",
    "    line = f.readline()\n",
    "    if not line:\n",
    "        break\n",
    "    print(line.strip())\n",
    "else:\n",
    "    f.close\n"
   ]
  },
  {
   "cell_type": "code",
   "execution_count": 26,
   "metadata": {},
   "outputs": [
    {
     "name": "stdout",
     "output_type": "stream",
     "text": [
      "My favorite is Pudding\n"
     ]
    }
   ],
   "source": [
    "favorites = ['Churros', 'Tiramisú', 'Pudding']\n",
    "\n",
    "for dessert in favorites:\n",
    "    if dessert == 'Pudding':\n",
    "        print('My favorite is', dessert)\n",
    "        break \n",
    "else:\n",
    "    print('No sorry, not a dessert on my list')\n"
   ]
  },
  {
   "cell_type": "code",
   "execution_count": 27,
   "metadata": {},
   "outputs": [
    {
     "name": "stdout",
     "output_type": "stream",
     "text": [
      "Dispensing chips. Enjoy your snack!\n",
      "Dispensing candy. Enjoy your snack!\n",
      "Dispensing soda. Enjoy your snack!\n",
      "Dispensing food. Enjoy your snack!\n",
      "Thank you for using the vending machine.\n",
      "Vending machine session ended.\n"
     ]
    }
   ],
   "source": [
    "snacks_in_stock = [\"chips\", \"candy\", \"soda\", \"cookies\"]\n",
    "user_choice = \"\"\n",
    "\n",
    "while user_choice != \"q\":\n",
    "    user_choice = input(\"Enter your snack choice (or 'q' to exit): \")\n",
    "\n",
    "    # Check if the user wants to quit\n",
    "    if user_choice == \"q\":\n",
    "        print(\"Thank you for using the vending machine.\")\n",
    "        break\n",
    "\n",
    "    # Dispense the selected snack\n",
    "    print(f\"Dispensing {user_choice}. Enjoy your snack!\")\n",
    "\n",
    "print(\"Vending machine session ended.\")\n"
   ]
  },
  {
   "cell_type": "code",
   "execution_count": 28,
   "metadata": {},
   "outputs": [
    {
     "name": "stdout",
     "output_type": "stream",
     "text": [
      "Other desserts I like are Tiramisú\n",
      "Other desserts I like are Pudding\n"
     ]
    }
   ],
   "source": [
    "favorites = ['Churros', 'Tiramisú', 'Pudding']\n",
    "\n",
    "for dessert in favorites:\n",
    "    if dessert == 'Churros':\n",
    "        continue\n",
    "    print('Other desserts I like are', dessert)\n"
   ]
  },
  {
   "cell_type": "code",
   "execution_count": 29,
   "metadata": {},
   "outputs": [
    {
     "name": "stdout",
     "output_type": "stream",
     "text": [
      "Dispensing chips. Enjoy your snack!\n",
      "Dispensing candy. Enjoy your snack!\n",
      "Sorry, that snack is not available.\n",
      "Thank you for using the vending machine.\n",
      "Vending machine session ended.\n"
     ]
    }
   ],
   "source": [
    "snacks_in_stock = [\"chips\", \"candy\", \"soda\", \"cookies\"]\n",
    "user_choice = \"\"\n",
    "\n",
    "while user_choice != \"q\":\n",
    "    user_choice = input(\"Enter your snack choice (or 'q' to exit): \")\n",
    "\n",
    "    # Check if the user wants to quit\n",
    "    if user_choice == \"q\":\n",
    "        print(\"Thank you for using the vending machine.\")\n",
    "        break\n",
    "\n",
    "    # Check if the selected snack is in stock\n",
    "    if user_choice not in snacks_in_stock:\n",
    "        print(\"Sorry, that snack is not available.\")\n",
    "        continue  # Continue iteration without dispensing the snack\n",
    "\n",
    "    # Dispense the selected snack\n",
    "    print(f\"Dispensing {user_choice}. Enjoy your snack!\")\n",
    "\n",
    "print(\"Vending machine session ended.\")\n"
   ]
  },
  {
   "cell_type": "code",
   "execution_count": 6,
   "metadata": {},
   "outputs": [
    {
     "name": "stdout",
     "output_type": "stream",
     "text": [
      "Alice\n",
      "Bob\n"
     ]
    }
   ],
   "source": [
    "customers = [\"Alice\", \"Bob\", \"Charlie\"]\n",
    "def send_email(customer):\n",
    "    print(customer)\n",
    "for customer in customers:\n",
    "    if customer == \"Charlie\":\n",
    "        pass  # Implementation for Charlie later\n",
    "    else:\n",
    "        send_email(customer)\n",
    "    "
   ]
  },
  {
   "cell_type": "code",
   "execution_count": 3,
   "metadata": {},
   "outputs": [
    {
     "name": "stdout",
     "output_type": "stream",
     "text": [
      "Authentication successful!\n",
      "Welcome, admin!\n"
     ]
    }
   ],
   "source": [
    "valid_login = \"admin\"\n",
    "valid_password = \"password\"\n",
    "\n",
    "while True:\n",
    "    login = input(\"Enter your login: \")\n",
    "    password = input(\"Enter your password: \")\n",
    "\n",
    "    if login == valid_login and password == valid_password:\n",
    "        print(\"Authentication successful!\")\n",
    "        break\n",
    "    else:\n",
    "        print(\"Invalid credentials. Please try again.\")\n",
    "        pass  # Placeholder for later (e.g., account lockout)\n",
    "\n",
    "print(\"Welcome, admin!\")\n"
   ]
  },
  {
   "cell_type": "code",
   "execution_count": 7,
   "metadata": {},
   "outputs": [
    {
     "name": "stdout",
     "output_type": "stream",
     "text": [
      "Alice\n",
      "Bob\n",
      "Charlie\n",
      "Alice\n",
      "Bob\n",
      "Charlie\n"
     ]
    }
   ],
   "source": [
    "names = [\"Alice\", \"Bob\", \"Charlie\"]\n",
    "\n",
    "# GOOD:iterate over elements directly\n",
    "for name in names:\n",
    "    print(name)\n",
    "\n",
    "# BAD: iterating over indices\n",
    "for i in range(len(names)):\n",
    "    name = names[i]\n",
    "    print(name)\n"
   ]
  },
  {
   "cell_type": "code",
   "execution_count": 8,
   "metadata": {},
   "outputs": [
    {
     "name": "stdout",
     "output_type": "stream",
     "text": [
      "Using continue sparingly:\n",
      "1\n",
      "3\n",
      "5\n",
      "7\n",
      "9\n",
      "\n",
      "Equivalent code without continue:\n",
      "1\n",
      "3\n",
      "5\n",
      "7\n",
      "9\n"
     ]
    }
   ],
   "source": [
    "# Sample list of numbers\n",
    "numbers = [1, 2, 3, 4, 5, 6, 7, 8, 9, 10]\n",
    "\n",
    "# BAD: Use continue sparingly to skip even numbers\n",
    "print(\"Using continue sparingly:\")\n",
    "for num in numbers:\n",
    "    if num % 2 == 0:\n",
    "        continue  # Skip even numbers\n",
    "    print(num)\n",
    "\n",
    "# GOOD: Equivalent code without continue\n",
    "print(\"\\nEquivalent code without continue:\")\n",
    "for num in numbers:\n",
    "    if num % 2 != 0:\n",
    "        print(num)\n"
   ]
  },
  {
   "cell_type": "code",
   "execution_count": 9,
   "metadata": {},
   "outputs": [
    {
     "name": "stdout",
     "output_type": "stream",
     "text": [
      "0 a\n",
      "1 b\n",
      "2 c\n",
      "0 a\n",
      "1 b\n",
      "2 c\n"
     ]
    }
   ],
   "source": [
    "data = [\"a\", \"b\", \"c\"]\n",
    "\n",
    "# BAD:\n",
    "for i in range(len(data)):\n",
    "    print(i, data[i])\n",
    "\n",
    "# GOOD: use enumerate\n",
    "for idx, val in enumerate(data):\n",
    "    print(idx, val)\n"
   ]
  },
  {
   "cell_type": "code",
   "execution_count": 10,
   "metadata": {},
   "outputs": [
    {
     "name": "stdout",
     "output_type": "stream",
     "text": [
      "111\n",
      "111\n"
     ]
    }
   ],
   "source": [
    "numbers = [7, 20, 33, 51]\n",
    "result = 0\n",
    "\n",
    "# BAD:\n",
    "for num in numbers:\n",
    "    result += num\n",
    "print(result) \n",
    "\n",
    "# GOOD: avoid loop\n",
    "result = sum(numbers)\n",
    "print(result)\n"
   ]
  },
  {
   "cell_type": "code",
   "execution_count": 11,
   "metadata": {},
   "outputs": [
    {
     "name": "stdout",
     "output_type": "stream",
     "text": [
      "Bob scored 92\n",
      "Bob scored 92\n"
     ]
    }
   ],
   "source": [
    "students = [\"Alice\", \"Bob\", \"Charlie\", \"David\"]\n",
    "scores = [85, 92, 78, 88]\n",
    "threshold = 90\n",
    "\n",
    "# BAD: Find who scored above threshold\n",
    "for i in range(len(students)):\n",
    "    if scores[i] > threshold:\n",
    "        print(f\"{students[i]} scored {scores[i]}\")\n",
    "\n",
    "# GOOD: Find who scored above threshold using zip()\n",
    "for student, score in zip(students, scores):\n",
    "    if score > threshold:\n",
    "        print(f\"{student} scored {score}\")\n"
   ]
  },
  {
   "cell_type": "code",
   "execution_count": 12,
   "metadata": {},
   "outputs": [
    {
     "name": "stdout",
     "output_type": "stream",
     "text": [
      "Distance between points 0 and 1: 2.83\n",
      "Distance between points 0 and 2: 5.66\n",
      "Distance between points 0 and 3: 8.49\n",
      "Distance between points 1 and 2: 2.83\n",
      "Distance between points 1 and 3: 5.66\n",
      "Distance between points 2 and 3: 2.83\n"
     ]
    }
   ],
   "source": [
    "import math\n",
    "\n",
    "# Sample list of points as (x, y) coordinates\n",
    "points = [(1, 2), (3, 4), (5, 6), (7, 8)]\n",
    "\n",
    "# Calculate distances between each pair of points\n",
    "distances = {}\n",
    "\n",
    "for i, point1 in enumerate(points):\n",
    "    for j, point2 in enumerate(points):\n",
    "        if i < j:  # Avoid redundancy (i.e., distance point1 and point2 = point2 and point1)\n",
    "            x1, y1 = point1\n",
    "            x2, y2 = point2\n",
    "            distance = math.sqrt((x2 - x1) ** 2 + (y2 - y1) ** 2)\n",
    "            distances[(i, j)] = distance\n",
    "\n",
    "# Print the distances\n",
    "for (i, j), distance in distances.items():\n",
    "    print(f\"Distance between points {i} and {j}: {distance:.2f}\")\n"
   ]
  }
 ],
 "metadata": {
  "kernelspec": {
   "display_name": "Python 3",
   "language": "python",
   "name": "python3"
  },
  "language_info": {
   "codemirror_mode": {
    "name": "ipython",
    "version": 3
   },
   "file_extension": ".py",
   "mimetype": "text/x-python",
   "name": "python",
   "nbconvert_exporter": "python",
   "pygments_lexer": "ipython3",
   "version": "3.8.2"
  },
  "orig_nbformat": 4
 },
 "nbformat": 4,
 "nbformat_minor": 2
}
